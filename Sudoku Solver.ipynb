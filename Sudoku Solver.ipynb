{
 "cells": [
  {
   "cell_type": "code",
   "execution_count": 1,
   "id": "a197fae9",
   "metadata": {},
   "outputs": [],
   "source": [
    "using JuMP\n",
    "using GLPK"
   ]
  },
  {
   "cell_type": "code",
   "execution_count": 2,
   "id": "0a048461",
   "metadata": {},
   "outputs": [
    {
     "data": {
      "text/plain": [
       "JuliaStringToArray (generic function with 1 method)"
      ]
     },
     "execution_count": 2,
     "metadata": {},
     "output_type": "execute_result"
    }
   ],
   "source": [
    "function JuliaStringToArray(input)\n",
    "    ques = zeros(Int, 9, 9)\n",
    "    arr = split(input,\"\")\n",
    "    n = 0\n",
    "    for i in 1:9\n",
    "        for j in 1:9\n",
    "            n = n+1\n",
    "            ques[i, j] = parse(Int64, arr[n])\n",
    "        end\n",
    "    end\n",
    "    return ques\n",
    "end"
   ]
  },
  {
   "cell_type": "code",
   "execution_count": 3,
   "id": "508cf319",
   "metadata": {},
   "outputs": [
    {
     "data": {
      "text/plain": [
       "FindSolution (generic function with 1 method)"
      ]
     },
     "execution_count": 3,
     "metadata": {},
     "output_type": "execute_result"
    }
   ],
   "source": [
    "function FindSolution(init_sol)\n",
    "    sudoku = Model(GLPK.Optimizer)\n",
    "    @variable(sudoku, x[i = 1:9, j = 1:9, k = 1:9], Bin)\n",
    "    for i in 1:9\n",
    "        for j in 1:9\n",
    "            @constraint(sudoku, sum(x[i, j, k] for k in 1:9) == 1)\n",
    "        end\n",
    "    end\n",
    "    for ind in 1:9\n",
    "        for k in 1:9\n",
    "            @constraint(sudoku, sum(x[ind, j, k] for j in 1:9) == 1)\n",
    "            @constraint(sudoku, sum(x[i, ind, k] for i in 1:9) == 1)\n",
    "        end\n",
    "    end\n",
    "    for i in 1:3:7\n",
    "        for j in 1:3:7\n",
    "            for k in 1:9\n",
    "                @constraint(\n",
    "                    sudoku,\n",
    "                    sum(x[r, c, k] for r in i:(i+2), c in j:(j+2)) == 1\n",
    "                )\n",
    "            end\n",
    "        end\n",
    "    end\n",
    "    for i in 1:9\n",
    "        for j in 1:9\n",
    "            # If the space isn't empty\n",
    "            if init_sol[i, j] != 0\n",
    "                # Then the corresponding variable for that digit and location must\n",
    "                # be 1.\n",
    "                fix(x[i, j, init_sol[i, j]], 1; force = true)\n",
    "            end\n",
    "        end\n",
    "    end\n",
    "    optimize!(sudoku)\n",
    "    x_val = value.(x)\n",
    "    sol = \"\"\n",
    "    for i in 1:9\n",
    "        for j in 1:9\n",
    "            for k in 1:9\n",
    "                if round(Int, x_val[i, j, k]) == 1\n",
    "                    sol = sol * string(k)\n",
    "                end\n",
    "            end\n",
    "        end\n",
    "    end\n",
    "    return sol\n",
    "end"
   ]
  },
  {
   "cell_type": "code",
   "execution_count": 4,
   "id": "96b98daa",
   "metadata": {},
   "outputs": [
    {
     "data": {
      "text/plain": [
       "compareSolution (generic function with 1 method)"
      ]
     },
     "execution_count": 4,
     "metadata": {},
     "output_type": "execute_result"
    }
   ],
   "source": [
    "function compareSolution(sol,answer)\n",
    "    if cmp(sol, answer)==0\n",
    "        println(\"Answer is correct\")\n",
    "    else\n",
    "        println(\"Answer is wrong\")\n",
    "    end\n",
    "end"
   ]
  },
  {
   "cell_type": "code",
   "execution_count": 11,
   "id": "4559a8d8",
   "metadata": {},
   "outputs": [
    {
     "name": "stdout",
     "output_type": "stream",
     "text": [
      "Answer is correct\n"
     ]
    }
   ],
   "source": [
    "input = \"040800500080760092001005470056309000009001004320500010000200700700090030005008026,947812563583764192261935478156349287879621354324587619698253741712496835435178926\"\n",
    "arr = split(input,',')\n",
    "ques = arr[1]\n",
    "answer = arr[2]\n",
    "solution = FindSolution(JuliaStringToArray(ques))\n",
    "compareSolution(solution,answer)"
   ]
  },
  {
   "cell_type": "code",
   "execution_count": 5,
   "id": "a74cebd9",
   "metadata": {},
   "outputs": [
    {
     "name": "stdout",
     "output_type": "stream",
     "text": [
      "947812563583764192261935478156349287879621354324587619698253741712496835435178926\n"
     ]
    }
   ],
   "source": [
    "ques = \"040800500080760092001005470056309000009001004320500010000200700700090030005008026\"\n",
    "println(FindSolution(JuliaStringToArray(ques)))"
   ]
  },
  {
   "cell_type": "code",
   "execution_count": null,
   "id": "8d27368b",
   "metadata": {},
   "outputs": [],
   "source": []
  }
 ],
 "metadata": {
  "kernelspec": {
   "display_name": "Julia 1.6.2",
   "language": "julia",
   "name": "julia-1.6"
  },
  "language_info": {
   "file_extension": ".jl",
   "mimetype": "application/julia",
   "name": "julia",
   "version": "1.6.2"
  }
 },
 "nbformat": 4,
 "nbformat_minor": 5
}
